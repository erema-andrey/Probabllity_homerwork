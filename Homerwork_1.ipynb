{
 "cells": [
  {
   "attachments": {},
   "cell_type": "markdown",
   "metadata": {},
   "source": [
    "Из колоды в 52 карты извлекаются случайным образом 4 карты. \n",
    "a. Найти вероятность того, что все карты – крести.\n",
    "б. Найти вероятность, что среди 4-х карт окажется хотя бы один туз."
   ]
  },
  {
   "attachments": {},
   "cell_type": "markdown",
   "metadata": {},
   "source": [
    "В колоде из 52 листов 52/4 =13 карт одной масти.\n",
    "Воспользуемся формулой подсчета количества сочетаний по k элементов из множества n:Ckn\n",
    "C"
   ]
  }
 ],
 "metadata": {
  "language_info": {
   "name": "python"
  },
  "orig_nbformat": 4
 },
 "nbformat": 4,
 "nbformat_minor": 2
}
